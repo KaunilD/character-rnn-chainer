{
 "cells": [
  {
   "cell_type": "markdown",
   "metadata": {},
   "source": [
    "# Predict characters using 1 cell RNN using Chainer"
   ]
  },
  {
   "cell_type": "markdown",
   "metadata": {},
   "source": [
    "### Basics"
   ]
  },
  {
   "cell_type": "code",
   "execution_count": 85,
   "metadata": {
    "collapsed": true
   },
   "outputs": [],
   "source": [
    "import numpy as np\n",
    "import sys\n",
    "import glob\n",
    "import shutil"
   ]
  },
  {
   "cell_type": "markdown",
   "metadata": {
    "collapsed": true
   },
   "source": [
    "### Create the dataset"
   ]
  },
  {
   "cell_type": "code",
   "execution_count": 86,
   "metadata": {
    "collapsed": false
   },
   "outputs": [],
   "source": [
    "def create_dataset(ds_path):\n",
    "    data = open(ds_path, 'r').read()\n",
    "    symbols = list(set(data))\n",
    "    char_idx = {char:idx for idx, char in enumerate(symbols)}\n",
    "    idx_char = {idx:char for idx, char in enumerate(symbols)}\n",
    "    idx = [char_idx[char] for idx, char in enumerate(data)]\n",
    "    return char_idx, idx_char, np.asarray(idx, dtype=np.int32), data"
   ]
  },
  {
   "cell_type": "markdown",
   "metadata": {},
   "source": [
    "### RNN Model"
   ]
  },
  {
   "cell_type": "code",
   "execution_count": 108,
   "metadata": {
    "collapsed": true
   },
   "outputs": [],
   "source": [
    "import chainer\n",
    "import chainer\n",
    "from chainer import cuda, Function, gradient_check, report, training, utils, Variable\n",
    "from chainer import datasets, iterators, optimizers, serializers\n",
    "from chainer import Link, Chain, ChainList\n",
    "import chainer.functions as F\n",
    "import chainer.links as L\n",
    "from chainer.training import extensions"
   ]
  },
  {
   "cell_type": "code",
   "execution_count": 134,
   "metadata": {
    "collapsed": false
   },
   "outputs": [],
   "source": [
    "class RNN(chainer.Chain):\n",
    "    def __init__(self, n_vocab, n_units):\n",
    "        super(RNN, self).__init__(\n",
    "            embedID = L.EmbedID(n_vocab, n_units),\n",
    "            l1 = L.Linear(n_units, n_units),\n",
    "            h1 = L.Linear(n_units, n_units),\n",
    "            l2 = L.Linear(n_units, n_vocab)\n",
    "        )\n",
    "        self.r_h1 = None\n",
    "        \n",
    "    def reset_state(self):\n",
    "        self.r_h1 = None\n",
    "    \n",
    "    def __call__(self, x):\n",
    "        h = self.embedID(x)\n",
    "        if self.r_h1 is None:\n",
    "            self.r_h1 = F.tanh(self.l1(h))\n",
    "        else:\n",
    "            self.r_h1 = F.tanh(self.l1(h) + self.h1(self.r_h1))\n",
    "        y = self.l2(self.r_h1)\n",
    "        return y\n",
    "            "
   ]
  },
  {
   "cell_type": "markdown",
   "metadata": {},
   "source": [
    "### Setup the dataset iterator"
   ]
  },
  {
   "cell_type": "code",
   "execution_count": 163,
   "metadata": {
    "collapsed": true
   },
   "outputs": [],
   "source": [
    "class ParallelSequentialIterator(chainer.dataset.Iterator):\n",
    " \n",
    "    def __init__(self, dataset, batch_size, repeat=True):\n",
    "        self.dataset = dataset\n",
    "        self.batch_size = batch_size\n",
    "        self.epoch = 0\n",
    "        self.is_new_epoch = False\n",
    "        self.repeat = repeat\n",
    "        length = len(dataset)\n",
    "        self.offsets = [i * length // batch_size for i in range(batch_size)]\n",
    "        self.iteration = 0\n",
    " \n",
    "    def __next__(self):\n",
    "        length = len(self.dataset)\n",
    "        if not self.repeat and self.iteration * self.batch_size >= length:\n",
    "            raise StopIteration\n",
    "        cur_words = self.get_words()\n",
    "        self.iteration += 1\n",
    "        next_words = self.get_words()\n",
    " \n",
    "        epoch = self.iteration * self.batch_size // length\n",
    "        self.is_new_epoch = self.epoch < epoch\n",
    "        if self.is_new_epoch:\n",
    "            self.epoch = epoch\n",
    "         \n",
    "        return list(zip(cur_words, next_words))\n",
    " \n",
    "    @property\n",
    "    def epoch_detail(self):\n",
    "        return self.iteration * self.batch_size / len(self.dataset)\n",
    " \n",
    "    def get_words(self):\n",
    "        return [self.dataset[(offset + self.iteration) % len(self.dataset)]\n",
    "                for offset in self.offsets]\n",
    " \n",
    "    def serialize(self, serializer):\n",
    "        self.iteration = serializer('iteration', self.iteration)\n",
    "        self.epoch = serializer('epoch', self.epoch)"
   ]
  },
  {
   "cell_type": "markdown",
   "metadata": {},
   "source": [
    "### Setup the updater"
   ]
  },
  {
   "cell_type": "code",
   "execution_count": 164,
   "metadata": {
    "collapsed": false
   },
   "outputs": [],
   "source": [
    "class BPTTUpdater(chainer.training.StandardUpdater):\n",
    " \n",
    "    def __init__(self, train_iter, optimizer, bprop_len, device):\n",
    "        super(BPTTUpdater, self).__init__(\n",
    "            train_iter, optimizer, device=device)\n",
    "        self.bprop_len = bprop_len\n",
    " \n",
    "    def update_core(self):\n",
    "        loss = 0\n",
    "        train_iter = self.get_iterator('main')\n",
    "        optimizer = self.get_optimizer('main')\n",
    " \n",
    "        for i in range(self.bprop_len):\n",
    "            batch = train_iter.__next__()\n",
    "            x, t = self.converter(batch, self.device)\n",
    "            loss += optimizer.target(chainer.Variable(x), chainer.Variable(t))\n",
    "        optimizer.target.cleargrads()\n",
    "        loss.backward()\n",
    "        loss.unchain_backward()\n",
    "        optimizer.update()"
   ]
  },
  {
   "cell_type": "markdown",
   "metadata": {},
   "source": [
    "### Setup the training script"
   ]
  },
  {
   "cell_type": "code",
   "execution_count": 172,
   "metadata": {
    "collapsed": true
   },
   "outputs": [],
   "source": [
    "n_epochs = 5  # epochs\n",
    "n_units = 100   # neurons in the hidden cell\n",
    "batch_size = 1\n",
    "train_test_split = 2"
   ]
  },
  {
   "cell_type": "code",
   "execution_count": null,
   "metadata": {
    "collapsed": false
   },
   "outputs": [
    {
     "name": "stdout",
     "output_type": "stream",
     "text": [
      "epoch       main/loss   validation/main/loss  main/accuracy  validation/main/accuracy  elapsed_time\n",
      "\u001b[J1           3.65307     2.94902               0.16724        0.27572                   61.1466       \n",
      "\u001b[J2           2.66957     2.51293               0.30996        0.32918                   122.853       \n"
     ]
    }
   ],
   "source": [
    "char_idx, idx_char, idx, train_data = create_dataset('dataset/fewlines.txt')\n",
    "model = RNN(len(char_idx), n_units)\n",
    "model = L.Classifier(model)\n",
    "\n",
    "eval_classifier_model = model.copy()\n",
    "eval_model = model.predictor\n",
    "\n",
    "optimizer = optimizers.Adam(alpha = 0.0005)\n",
    "optimizer.setup(model)\n",
    "\n",
    "train = idx[0:len(idx) - train_test_split] #len(idx) = 4583798\n",
    "test = idx[len(idx) - train_test_split : -1]\n",
    "\n",
    "train_iter = ParallelSequentialIterator(train, batch_size)\n",
    "test_iter = ParallelSequentialIterator(test, batch_size, repeat=False)\n",
    "\n",
    "updater = BPTTUpdater(train_iter, optimizer, 10, -1)\n",
    "\n",
    "trainer = chainer.training.Trainer(updater, (n_epochs, 'epoch'), out='results')\n",
    "\n",
    "trainer.extend(extensions.Evaluator(test_iter, eval_classifier_model, device = -1,eval_hook=lambda _: eval_model.reset_state()))\n",
    "\n",
    "trainer.extend(extensions.dump_graph('main/loss'))\n",
    "\n",
    "interval = (1, 'epoch')\n",
    "\n",
    "trainer.extend(extensions.snapshot_object(model, 'epoch-{.updater.epoch}.model'), trigger=interval)\n",
    "trainer.extend(extensions.snapshot(), trigger=interval)\n",
    "trainer.extend(extensions.LogReport())\n",
    "trainer.extend(extensions.PrintReport(['epoch', 'main/loss', 'validation/main/loss', 'main/accuracy', 'validation/main/accuracy', 'elapsed_time']))\n",
    "trainer.extend(extensions.PlotReport(['main/loss', 'validation/main/loss'], x_key='epoch', file_name='loss.png'))\n",
    "trainer.extend(extensions.PlotReport(['main/accuracy', 'validation/main/accuracy'], x_key='epoch', file_name='accuracy.png'))\n",
    "\n",
    "trainer.run()"
   ]
  },
  {
   "cell_type": "markdown",
   "metadata": {
    "collapsed": true
   },
   "source": [
    "### Prediction"
   ]
  },
  {
   "cell_type": "code",
   "execution_count": 171,
   "metadata": {
    "collapsed": false
   },
   "outputs": [
    {
     "name": "stdout",
     "output_type": "stream",
     "text": [
      "here are you.\"\n",
      "\"Where are you.\"\n",
      "\"Where are you.\"\n",
      "\"Where are you.\"\n",
      "\"Where are you.\"\n",
      "\"Where are you.\"\n"
     ]
    }
   ],
   "source": [
    "model = RNN(len(char_idx), n_units)\n",
    "\n",
    "model = L.Classifier(model)\n",
    "serializers.load_npz('results/epoch-3.model', model)\n",
    "\n",
    "data = np.asarray([2], dtype=np.int32)\n",
    "\n",
    "for i in range(0, 100):\n",
    "    \n",
    "    pred_model = model.predictor(Variable(data))\n",
    "    predicted_char = idx_char[np.argmax(pred_model.data)]\n",
    "    print(predicted_char, end='')\n",
    "    data = np.asarray([char_idx[predicted_char]],dtype=np.int32)"
   ]
  },
  {
   "cell_type": "code",
   "execution_count": null,
   "metadata": {
    "collapsed": true
   },
   "outputs": [],
   "source": []
  }
 ],
 "metadata": {
  "anaconda-cloud": {},
  "kernelspec": {
   "display_name": "Python [default]",
   "language": "python",
   "name": "python3"
  },
  "language_info": {
   "codemirror_mode": {
    "name": "ipython",
    "version": 3
   },
   "file_extension": ".py",
   "mimetype": "text/x-python",
   "name": "python",
   "nbconvert_exporter": "python",
   "pygments_lexer": "ipython3",
   "version": "3.5.2"
  }
 },
 "nbformat": 4,
 "nbformat_minor": 1
}
